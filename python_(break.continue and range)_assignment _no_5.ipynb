{
 "cells": [
  {
   "cell_type": "markdown",
   "id": "5480f86f",
   "metadata": {},
   "source": [
    "# write a program to print numbers from 1 to 10, but stop if the number is 5 "
   ]
  },
  {
   "cell_type": "code",
   "execution_count": 4,
   "id": "3aa6dea2",
   "metadata": {},
   "outputs": [
    {
     "name": "stdout",
     "output_type": "stream",
     "text": [
      "1\n",
      "2\n",
      "3\n",
      "4\n",
      "5\n"
     ]
    }
   ],
   "source": [
    "for i in range(1,10):\n",
    "    print(i)\n",
    "    if i==5:\n",
    "        break\n",
    "    "
   ]
  },
  {
   "cell_type": "markdown",
   "id": "afd199c6",
   "metadata": {},
   "source": [
    "# write a program to iterate through a list and stop when encounting a specially element"
   ]
  },
  {
   "cell_type": "code",
   "execution_count": 43,
   "id": "0ead6cdb",
   "metadata": {},
   "outputs": [
    {
     "name": "stdout",
     "output_type": "stream",
     "text": [
      "1\n",
      "2\n",
      "3\n",
      "4\n",
      "5\n",
      "vijay\n"
     ]
    }
   ],
   "source": [
    "a=[1,2,3,4,5,\"vijay\",6,7,8,9,10]\n",
    "for i in a:\n",
    "    print(i)\n",
    "    if i==\"vijay\":\n",
    "        break"
   ]
  },
  {
   "cell_type": "markdown",
   "id": "75d35cac",
   "metadata": {},
   "source": [
    "# write a program to skip printing even numbers from 1 to 10"
   ]
  },
  {
   "cell_type": "code",
   "execution_count": 10,
   "id": "96ef599a",
   "metadata": {},
   "outputs": [
    {
     "name": "stdout",
     "output_type": "stream",
     "text": [
      "1\n",
      "3\n",
      "5\n",
      "7\n",
      "9\n"
     ]
    }
   ],
   "source": [
    "i=1\n",
    "for i in range(1,11):\n",
    "    \n",
    "    if (i%2==0):\n",
    "        continue\n",
    "    print(i)"
   ]
  },
  {
   "cell_type": "markdown",
   "id": "e5287b7d",
   "metadata": {},
   "source": [
    "# write a program to print numbers from 0 to 9 using range()"
   ]
  },
  {
   "cell_type": "code",
   "execution_count": 21,
   "id": "0e8e369d",
   "metadata": {},
   "outputs": [
    {
     "name": "stdout",
     "output_type": "stream",
     "text": [
      "0\n",
      "1\n",
      "2\n",
      "3\n",
      "4\n",
      "5\n",
      "6\n",
      "7\n",
      "8\n",
      "9\n"
     ]
    }
   ],
   "source": [
    "i=0\n",
    "for i in range(0,10):\n",
    "    print(i)\n",
    "\n"
   ]
  },
  {
   "cell_type": "markdown",
   "id": "16b892c6",
   "metadata": {},
   "source": [
    "# write a program  to print multiplication tables from 1 to 5, but stop after the first table is printed for each number  "
   ]
  },
  {
   "cell_type": "code",
   "execution_count": 9,
   "id": "f2cb6923",
   "metadata": {},
   "outputs": [
    {
     "name": "stdout",
     "output_type": "stream",
     "text": [
      "Multiplication table for 1:\n",
      "1 x 1 = 1\n",
      "1 x 2 = 2\n",
      "1 x 3 = 3\n",
      "1 x 4 = 4\n",
      "1 x 5 = 5\n",
      "1 x 6 = 6\n",
      "1 x 7 = 7\n",
      "1 x 8 = 8\n",
      "1 x 9 = 9\n",
      "1 x 10 = 10\n",
      "\n",
      "Multiplication table for 2:\n",
      "2 x 1 = 2\n",
      "2 x 2 = 4\n",
      "2 x 3 = 6\n",
      "2 x 4 = 8\n",
      "2 x 5 = 10\n",
      "2 x 6 = 12\n",
      "2 x 7 = 14\n",
      "2 x 8 = 16\n",
      "2 x 9 = 18\n",
      "2 x 10 = 20\n",
      "\n",
      "Multiplication table for 3:\n",
      "3 x 1 = 3\n",
      "3 x 2 = 6\n",
      "3 x 3 = 9\n",
      "3 x 4 = 12\n",
      "3 x 5 = 15\n",
      "3 x 6 = 18\n",
      "3 x 7 = 21\n",
      "3 x 8 = 24\n",
      "3 x 9 = 27\n",
      "3 x 10 = 30\n",
      "\n",
      "Multiplication table for 4:\n",
      "4 x 1 = 4\n",
      "4 x 2 = 8\n",
      "4 x 3 = 12\n",
      "4 x 4 = 16\n",
      "4 x 5 = 20\n",
      "4 x 6 = 24\n",
      "4 x 7 = 28\n",
      "4 x 8 = 32\n",
      "4 x 9 = 36\n",
      "4 x 10 = 40\n",
      "\n",
      "Multiplication table for 5:\n",
      "5 x 1 = 5\n",
      "5 x 2 = 10\n",
      "5 x 3 = 15\n",
      "5 x 4 = 20\n",
      "5 x 5 = 25\n",
      "5 x 6 = 30\n",
      "5 x 7 = 35\n",
      "5 x 8 = 40\n",
      "5 x 9 = 45\n",
      "5 x 10 = 50\n",
      "\n"
     ]
    }
   ],
   "source": [
    "for i in range(1, 6):                                  # Iterate through numbers 1 to 5\n",
    "    print(f\"Multiplication table for {i}:\")\n",
    "    \n",
    "    for j in range(1, 11):                              # Iterate through multiples 1 to 10\n",
    "        result = i * j\n",
    "        print(f\"{i} x {j} = {result}\")\n",
    "    \n",
    "    print()                                            # Print a newline to separate tables\n"
   ]
  },
  {
   "cell_type": "markdown",
   "id": "aa55c70c",
   "metadata": {},
   "source": [
    "# write a program to skip printing even numbers using a while loop"
   ]
  },
  {
   "cell_type": "code",
   "execution_count": 3,
   "id": "a59be23a",
   "metadata": {},
   "outputs": [
    {
     "name": "stdout",
     "output_type": "stream",
     "text": [
      "1\n",
      "3\n",
      "5\n",
      "7\n",
      "9\n"
     ]
    }
   ],
   "source": [
    "i=0\n",
    "while (i<10):\n",
    "    i=i+1\n",
    "    if (i%2==0):\n",
    "        continue\n",
    "    print(i)\n",
    "    "
   ]
  },
  {
   "cell_type": "code",
   "execution_count": null,
   "id": "c66d0cdd",
   "metadata": {},
   "outputs": [],
   "source": []
  }
 ],
 "metadata": {
  "kernelspec": {
   "display_name": "Python 3 (ipykernel)",
   "language": "python",
   "name": "python3"
  },
  "language_info": {
   "codemirror_mode": {
    "name": "ipython",
    "version": 3
   },
   "file_extension": ".py",
   "mimetype": "text/x-python",
   "name": "python",
   "nbconvert_exporter": "python",
   "pygments_lexer": "ipython3",
   "version": "3.11.5"
  }
 },
 "nbformat": 4,
 "nbformat_minor": 5
}
